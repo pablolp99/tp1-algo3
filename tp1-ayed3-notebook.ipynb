{
 "cells": [
  {
   "cell_type": "markdown",
   "metadata": {},
   "source": [
    "# Casos de test generados aleatoriamente"
   ]
  },
  {
   "cell_type": "code",
   "execution_count": 1,
   "metadata": {},
   "outputs": [],
   "source": [
    "import random"
   ]
  },
  {
   "cell_type": "code",
   "execution_count": 2,
   "metadata": {},
   "outputs": [],
   "source": [
    "random.seed(2019)"
   ]
  },
  {
   "cell_type": "code",
   "execution_count": 3,
   "metadata": {},
   "outputs": [],
   "source": [
    "ns = list(range(1,31,1))"
   ]
  },
  {
   "cell_type": "code",
   "execution_count": 4,
   "metadata": {},
   "outputs": [],
   "source": [
    "resistencias = [1, 10, 20, 50, 75, 100]"
   ]
  },
  {
   "cell_type": "code",
   "execution_count": 5,
   "metadata": {},
   "outputs": [],
   "source": [
    "def crear_test(n):\n",
    "    pares = list()\n",
    "    for i in range(n):\n",
    "        w, r = random.randint(1, 30), random.randint(1, 50)\n",
    "        pares.append([w, r])\n",
    "    return pares"
   ]
  },
  {
   "cell_type": "code",
   "execution_count": 6,
   "metadata": {},
   "outputs": [],
   "source": [
    "with open('tests3_tp1.txt', 'a') as file:\n",
    "    for r in resistencias:\n",
    "        for n in ns:\n",
    "            file.write(\"{} {}\\n\".format(n, r))\n",
    "            for p in crear_test(n):\n",
    "                file.write(\"{} {}\\n\".format(p[0], p[1]))\n",
    "            file.write(\"\\n\")"
   ]
  },
  {
   "cell_type": "markdown",
   "metadata": {},
   "source": [
    "# Analisis"
   ]
  },
  {
   "cell_type": "markdown",
   "metadata": {},
   "source": [
    "## - Performance de cada uno\n",
    "## - Comparacion entre ellos"
   ]
  },
  {
   "cell_type": "code",
   "execution_count": 1,
   "metadata": {},
   "outputs": [],
   "source": [
    "from matplotlib import pyplot as plt, cm\n",
    "import numpy as np\n",
    "import pandas as pd\n",
    "import seaborn as sns"
   ]
  },
  {
   "cell_type": "markdown",
   "metadata": {},
   "source": [
    "## Graficos y demas\n",
    "### FB"
   ]
  },
  {
   "cell_type": "code",
   "execution_count": 37,
   "metadata": {},
   "outputs": [],
   "source": [
    "results_fb = pd.read_csv('resultados/results_fb.txt', delimiter=' ')\n",
    "results_fb['esperado'] = 2 ** results_fb['n'] * 20 / 1000000\n",
    "results_fb['ms'] = results_fb['t'] / 1000000"
   ]
  },
  {
   "cell_type": "code",
   "execution_count": 56,
   "metadata": {},
   "outputs": [
    {
     "data": {
      "text/plain": [
       "[Text(0, 0.5, 'tiempo (ms)'),\n",
       " Text(0.5, 0, 'n'),\n",
       " Text(0.5, 1.0, 'Fuerza Bruta')]"
      ]
     },
     "execution_count": 56,
     "metadata": {},
     "output_type": "execute_result"
    },
    {
     "data": {
      "image/png": "[encoded data removed]",
      "text/plain": [
       "<Figure size 720x504 with 1 Axes>"
      ]
     },
     "metadata": {
      "needs_background": "light"
     },
     "output_type": "display_data"
    }
   ],
   "source": [
    "y = results_fb.ms.tolist()\n",
    "x = results_fb.n.tolist()\n",
    "plt.figure(figsize=(10, 7))\n",
    "fig_fb = sns.scatterplot(x, y)\n",
    "fig_fb = sns.lineplot(data=results_fb, x='n', y='esperado', color=\"orange\")\n",
    "fig_fb.legend(labels=['O(2^n)','FB'])\n",
    "fig_fb.set(title=\"Fuerza Bruta\", xlabel='n', ylabel='tiempo (ms)')"
   ]
  },
  {
   "cell_type": "markdown",
   "metadata": {},
   "source": [
    "### Correlacion entre t_ej y t_esp"
   ]
  },
  {
   "cell_type": "code",
   "execution_count": 78,
   "metadata": {},
   "outputs": [],
   "source": [
    "results_fb['cor'] = results_fb['ms'].corr(results_fb['esperado'])"
   ]
  },
  {
   "cell_type": "code",
   "execution_count": 85,
   "metadata": {},
   "outputs": [
    {
     "data": {
      "text/html": [
       "<div>\n",
       "<style scoped>\n",
       "    .dataframe tbody tr th:only-of-type {\n",
       "        vertical-align: middle;\n",
       "    }\n",
       "\n",
       "    .dataframe tbody tr th {\n",
       "        vertical-align: top;\n",
       "    }\n",
       "\n",
       "    .dataframe thead th {\n",
       "        text-align: right;\n",
       "    }\n",
       "</style>\n",
       "<table border=\"1\" class=\"dataframe\">\n",
       "  <thead>\n",
       "    <tr style=\"text-align: right;\">\n",
       "      <th></th>\n",
       "      <th>esperado</th>\n",
       "    </tr>\n",
       "  </thead>\n",
       "  <tbody>\n",
       "    <tr>\n",
       "      <th>test_set</th>\n",
       "      <td>0.000000e+00</td>\n",
       "    </tr>\n",
       "    <tr>\n",
       "      <th>n</th>\n",
       "      <td>5.199042e-01</td>\n",
       "    </tr>\n",
       "    <tr>\n",
       "      <th>r</th>\n",
       "      <td>1.961195e-17</td>\n",
       "    </tr>\n",
       "    <tr>\n",
       "      <th>res</th>\n",
       "      <td>2.015173e-01</td>\n",
       "    </tr>\n",
       "    <tr>\n",
       "      <th>t</th>\n",
       "      <td>9.996351e-01</td>\n",
       "    </tr>\n",
       "    <tr>\n",
       "      <th>esperado</th>\n",
       "      <td>1.000000e+00</td>\n",
       "    </tr>\n",
       "    <tr>\n",
       "      <th>ms</th>\n",
       "      <td>9.996351e-01</td>\n",
       "    </tr>\n",
       "    <tr>\n",
       "      <th>cor</th>\n",
       "      <td>-2.258755e-16</td>\n",
       "    </tr>\n",
       "  </tbody>\n",
       "</table>\n",
       "</div>"
      ],
      "text/plain": [
       "              esperado\n",
       "test_set  0.000000e+00\n",
       "n         5.199042e-01\n",
       "r         1.961195e-17\n",
       "res       2.015173e-01\n",
       "t         9.996351e-01\n",
       "esperado  1.000000e+00\n",
       "ms        9.996351e-01\n",
       "cor      -2.258755e-16"
      ]
     },
     "execution_count": 85,
     "metadata": {},
     "output_type": "execute_result"
    }
   ],
   "source": [
    "results_fb.corr()[['esperado']]"
   ]
  },
  {
   "cell_type": "code",
   "execution_count": 76,
   "metadata": {},
   "outputs": [
    {
     "data": {
      "image/png": "[encoded data removed]",
      "text/plain": [
       "<Figure size 720x504 with 1 Axes>"
      ]
     },
     "metadata": {
      "needs_background": "light"
     },
     "output_type": "display_data"
    }
   ],
   "source": [
    "plt.figure(figsize=(10, 7))\n",
    "fig_fb = sns.scatterplot(results_fb['ms'], results_fb['n'], alpha=0.5)"
   ]
  },
  {
   "cell_type": "markdown",
   "metadata": {},
   "source": [
    "---\n",
    "## BTF"
   ]
  },
  {
   "cell_type": "code",
   "execution_count": 68,
   "metadata": {},
   "outputs": [],
   "source": [
    "results_btf = pd.read_csv('resultados/results_btf.txt', delimiter=' ')\n",
    "results_btf['esperado'] = (2 ** results_btf['n']) * 0.03/1000000\n",
    "results_btf['ms'] = results_btf['t'] / 1000000"
   ]
  },
  {
   "cell_type": "code",
   "execution_count": 70,
   "metadata": {},
   "outputs": [
    {
     "data": {
      "text/plain": [
       "[Text(0, 0.5, 'tiempo (ms)'),\n",
       " Text(0.5, 0, 'n'),\n",
       " Text(0.5, 1.0, 'Backtracking Factibilidad')]"
      ]
     },
     "execution_count": 70,
     "metadata": {},
     "output_type": "execute_result"
    },
    {
     "data": {
      "image/png": "[encoded data removed]",
      "text/plain": [
       "<Figure size 720x504 with 1 Axes>"
      ]
     },
     "metadata": {
      "needs_background": "light"
     },
     "output_type": "display_data"
    }
   ],
   "source": [
    "y = results_btf.ms.tolist()\n",
    "x = results_btf.n.tolist()\n",
    "plt.figure(figsize=(10, 7))\n",
    "fig_fb = sns.scatterplot(x, y)\n",
    "# fig_fb = sns.lineplot(data=results_btf, x='n', y='esperado', color=\"orange\")\n",
    "fig_fb.legend(labels=['O(2^n)','FB'])\n",
    "fig_fb.set(title=\"Backtracking Factibilidad\", xlabel='n', ylabel='tiempo (ms)')"
   ]
  },
  {
   "cell_type": "code",
   "execution_count": 87,
   "metadata": {},
   "outputs": [
    {
     "data": {
      "text/plain": [
       "test_set   -1.250722e-18\n",
       "n           5.199042e-01\n",
       "r           1.094417e-17\n",
       "res         2.015173e-01\n",
       "t           3.702506e-01\n",
       "esperado    1.000000e+00\n",
       "ms          3.702506e-01\n",
       "Name: esperado, dtype: float64"
      ]
     },
     "execution_count": 87,
     "metadata": {},
     "output_type": "execute_result"
    }
   ],
   "source": [
    "results_btf.corr()['esperado']"
   ]
  },
  {
   "cell_type": "markdown",
   "metadata": {},
   "source": [
    "---\n",
    "## BTO"
   ]
  },
  {
   "cell_type": "code",
   "execution_count": 33,
   "metadata": {},
   "outputs": [],
   "source": [
    "results_bto = pd.read_csv('resultados/results_bto.txt', delimiter=' ')\n",
    "results_bto['esperado'] = 2 ** results_bto['n'] * 0.01/1000000\n",
    "results_bto['ms'] = results_bto['t'] / 1000000"
   ]
  },
  {
   "cell_type": "code",
   "execution_count": 71,
   "metadata": {},
   "outputs": [
    {
     "data": {
      "text/plain": [
       "[Text(0, 0.5, 'tiempo (ms)'),\n",
       " Text(0.5, 0, 'n'),\n",
       " Text(0.5, 1.0, 'Backtracking Factibilidad')]"
      ]
     },
     "execution_count": 71,
     "metadata": {},
     "output_type": "execute_result"
    },
    {
     "data": {
      "image/png": "[encoded data removed]",
      "text/plain": [
       "<Figure size 720x504 with 1 Axes>"
      ]
     },
     "metadata": {
      "needs_background": "light"
     },
     "output_type": "display_data"
    }
   ],
   "source": [
    "y = results_bto.ms.tolist()\n",
    "x = results_bto.n.tolist()\n",
    "plt.figure(figsize=(10, 7))\n",
    "fig_fb = sns.scatterplot(x, y)\n",
    "# fig_fb = sns.lineplot(data=results_bto, x='n', y='esperado', color=\"orange\")\n",
    "fig_fb.legend(labels=['O(2^n)','FB'])\n",
    "fig_fb.set(title=\"Backtracking Factibilidad\", xlabel='n', ylabel='tiempo (ms)')"
   ]
  },
  {
   "cell_type": "markdown",
   "metadata": {},
   "source": [
    "y = results_bto.loc[results_bto.r==100].t.tolist()\n",
    "x = results_bto.loc[results_bto.r==100].n.tolist()\n",
    "sns.scatterplot(x, y)\n",
    "plt.title(\"Backtracking podas por optimalidad\")\n",
    "plt.xlabel(\"n\")\n",
    "plt.ylabel(\"tiempo (nanosegundos)\")\n",
    "plt.show()"
   ]
  },
  {
   "cell_type": "markdown",
   "metadata": {},
   "source": [
    "---\n",
    "## PD"
   ]
  },
  {
   "cell_type": "code",
   "execution_count": 45,
   "metadata": {},
   "outputs": [],
   "source": [
    "results_pd = pd.read_csv('resultados/results_dp.txt', delimiter=' ')\n",
    "results_pd['esperado'] = results_pd['n'] * results_pd['r'] * 44 / 1000000\n",
    "results_pd['ms'] = results_pd['t'] / 1000000"
   ]
  },
  {
   "cell_type": "markdown",
   "metadata": {},
   "source": [
    "### Tiempo de ejecucion vs esperada"
   ]
  },
  {
   "cell_type": "code",
   "execution_count": 46,
   "metadata": {},
   "outputs": [
    {
     "data": {
      "text/plain": [
       "[Text(0, 0.5, 'tiempo (ms)'),\n",
       " Text(0.5, 0, 'n'),\n",
       " Text(0.5, 1.0, 'Programacion dinamica')]"
      ]
     },
     "execution_count": 46,
     "metadata": {},
     "output_type": "execute_result"
    },
    {
     "data": {
      "image/png": "[encoded data removed]",
      "text/plain": [
       "<Figure size 720x504 with 1 Axes>"
      ]
     },
     "metadata": {
      "needs_background": "light"
     },
     "output_type": "display_data"
    }
   ],
   "source": [
    "y = results_pd.loc[results_pd.r==100].ms.tolist()\n",
    "x = results_pd.loc[results_pd.r==100].n.tolist()\n",
    "plt.figure(figsize=(10, 7))\n",
    "fig_fb = sns.scatterplot(x, y)\n",
    "fig_fb = sns.lineplot(data=results_pd, x='n', y='esperado', color=\"orange\")\n",
    "fig_fb.legend(labels=['O(n * R)','FB'])\n",
    "fig_fb.set(title=\"Programacion dinamica\", xlabel='n', ylabel='tiempo (ms)')"
   ]
  },
  {
   "cell_type": "markdown",
   "metadata": {},
   "source": [
    "### Correlacion entre tiempo de ejecucion y esperada"
   ]
  },
  {
   "cell_type": "markdown",
   "metadata": {},
   "source": [
    "---\n",
    "---"
   ]
  },
  {
   "cell_type": "markdown",
   "metadata": {},
   "source": [
    "## Comparacion entre todos"
   ]
  },
  {
   "cell_type": "code",
   "execution_count": null,
   "metadata": {},
   "outputs": [],
   "source": [
    "1000000"
   ]
  },
  {
   "cell_type": "code",
   "execution_count": 10,
   "metadata": {},
   "outputs": [],
   "source": [
    "results_fb['ms'] = results_fb['t'] / 1000000"
   ]
  },
  {
   "cell_type": "code",
   "execution_count": 12,
   "metadata": {},
   "outputs": [
    {
     "data": {
      "text/html": [
       "<div>\n",
       "<style scoped>\n",
       "    .dataframe tbody tr th:only-of-type {\n",
       "        vertical-align: middle;\n",
       "    }\n",
       "\n",
       "    .dataframe tbody tr th {\n",
       "        vertical-align: top;\n",
       "    }\n",
       "\n",
       "    .dataframe thead th {\n",
       "        text-align: right;\n",
       "    }\n",
       "</style>\n",
       "<table border=\"1\" class=\"dataframe\">\n",
       "  <thead>\n",
       "    <tr style=\"text-align: right;\">\n",
       "      <th></th>\n",
       "      <th>test_set</th>\n",
       "      <th>n</th>\n",
       "      <th>r</th>\n",
       "      <th>res</th>\n",
       "      <th>t</th>\n",
       "      <th>esperado</th>\n",
       "      <th>ms</th>\n",
       "    </tr>\n",
       "  </thead>\n",
       "  <tbody>\n",
       "    <tr>\n",
       "      <th>530</th>\n",
       "      <td>3</td>\n",
       "      <td>21</td>\n",
       "      <td>100</td>\n",
       "      <td>6</td>\n",
       "      <td>38452867</td>\n",
       "      <td>41943040</td>\n",
       "      <td>38.452867</td>\n",
       "    </tr>\n",
       "    <tr>\n",
       "      <th>531</th>\n",
       "      <td>3</td>\n",
       "      <td>22</td>\n",
       "      <td>100</td>\n",
       "      <td>6</td>\n",
       "      <td>76823127</td>\n",
       "      <td>83886080</td>\n",
       "      <td>76.823127</td>\n",
       "    </tr>\n",
       "    <tr>\n",
       "      <th>532</th>\n",
       "      <td>3</td>\n",
       "      <td>23</td>\n",
       "      <td>100</td>\n",
       "      <td>6</td>\n",
       "      <td>159541372</td>\n",
       "      <td>167772160</td>\n",
       "      <td>159.541372</td>\n",
       "    </tr>\n",
       "    <tr>\n",
       "      <th>533</th>\n",
       "      <td>3</td>\n",
       "      <td>24</td>\n",
       "      <td>100</td>\n",
       "      <td>10</td>\n",
       "      <td>308220422</td>\n",
       "      <td>335544320</td>\n",
       "      <td>308.220422</td>\n",
       "    </tr>\n",
       "    <tr>\n",
       "      <th>534</th>\n",
       "      <td>3</td>\n",
       "      <td>25</td>\n",
       "      <td>100</td>\n",
       "      <td>7</td>\n",
       "      <td>615333431</td>\n",
       "      <td>671088640</td>\n",
       "      <td>615.333431</td>\n",
       "    </tr>\n",
       "    <tr>\n",
       "      <th>535</th>\n",
       "      <td>3</td>\n",
       "      <td>26</td>\n",
       "      <td>100</td>\n",
       "      <td>6</td>\n",
       "      <td>1230566372</td>\n",
       "      <td>1342177280</td>\n",
       "      <td>1230.566372</td>\n",
       "    </tr>\n",
       "    <tr>\n",
       "      <th>536</th>\n",
       "      <td>3</td>\n",
       "      <td>27</td>\n",
       "      <td>100</td>\n",
       "      <td>7</td>\n",
       "      <td>2462944888</td>\n",
       "      <td>2684354560</td>\n",
       "      <td>2462.944888</td>\n",
       "    </tr>\n",
       "    <tr>\n",
       "      <th>537</th>\n",
       "      <td>3</td>\n",
       "      <td>28</td>\n",
       "      <td>100</td>\n",
       "      <td>7</td>\n",
       "      <td>4922852697</td>\n",
       "      <td>5368709120</td>\n",
       "      <td>4922.852697</td>\n",
       "    </tr>\n",
       "    <tr>\n",
       "      <th>538</th>\n",
       "      <td>3</td>\n",
       "      <td>29</td>\n",
       "      <td>100</td>\n",
       "      <td>9</td>\n",
       "      <td>9848897174</td>\n",
       "      <td>10737418240</td>\n",
       "      <td>9848.897174</td>\n",
       "    </tr>\n",
       "    <tr>\n",
       "      <th>539</th>\n",
       "      <td>3</td>\n",
       "      <td>30</td>\n",
       "      <td>100</td>\n",
       "      <td>6</td>\n",
       "      <td>19705838379</td>\n",
       "      <td>21474836480</td>\n",
       "      <td>19705.838379</td>\n",
       "    </tr>\n",
       "  </tbody>\n",
       "</table>\n",
       "</div>"
      ],
      "text/plain": [
       "     test_set   n    r  res            t     esperado            ms\n",
       "530         3  21  100    6     38452867     41943040     38.452867\n",
       "531         3  22  100    6     76823127     83886080     76.823127\n",
       "532         3  23  100    6    159541372    167772160    159.541372\n",
       "533         3  24  100   10    308220422    335544320    308.220422\n",
       "534         3  25  100    7    615333431    671088640    615.333431\n",
       "535         3  26  100    6   1230566372   1342177280   1230.566372\n",
       "536         3  27  100    7   2462944888   2684354560   2462.944888\n",
       "537         3  28  100    7   4922852697   5368709120   4922.852697\n",
       "538         3  29  100    9   9848897174  10737418240   9848.897174\n",
       "539         3  30  100    6  19705838379  21474836480  19705.838379"
      ]
     },
     "execution_count": 12,
     "metadata": {},
     "output_type": "execute_result"
    }
   ],
   "source": [
    "results_fb.tail(10)"
   ]
  }
 ],
 "metadata": {
  "kernelspec": {
   "display_name": "Python 3",
   "language": "python",
   "name": "python3"
  },
  "language_info": {
   "codemirror_mode": {
    "name": "ipython",
    "version": 3
   },
   "file_extension": ".py",
   "mimetype": "text/x-python",
   "name": "python",
   "nbconvert_exporter": "python",
   "pygments_lexer": "ipython3",
   "version": "3.7.5"
  }
 },
 "nbformat": 4,
 "nbformat_minor": 4
}
