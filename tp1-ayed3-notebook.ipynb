{
 "cells": [
  {
   "cell_type": "markdown",
   "metadata": {},
   "source": [
    "# Casos de test generados aleatoriamente"
   ]
  },
  {
   "cell_type": "code",
   "execution_count": null,
   "metadata": {},
   "outputs": [],
   "source": [
    "import random"
   ]
  },
  {
   "cell_type": "code",
   "execution_count": null,
   "metadata": {},
   "outputs": [],
   "source": [
    "random.seed(2020)"
   ]
  },
  {
   "cell_type": "code",
   "execution_count": null,
   "metadata": {},
   "outputs": [],
   "source": [
    "ns = list(range(1,31,1))"
   ]
  },
  {
   "cell_type": "code",
   "execution_count": null,
   "metadata": {},
   "outputs": [],
   "source": [
    "resistencias = [1, 10, 20, 50, 75, 100]"
   ]
  },
  {
   "cell_type": "code",
   "execution_count": null,
   "metadata": {},
   "outputs": [],
   "source": [
    "def crear_test(n):\n",
    "    pares = list()\n",
    "    for i in range(n):\n",
    "        w, r = random.randint(1, 30), random.randint(1, 50)\n",
    "        pares.append([w, r])\n",
    "    return pares"
   ]
  },
  {
   "cell_type": "code",
   "execution_count": null,
   "metadata": {},
   "outputs": [],
   "source": [
    "with open('tests_tp1.txt', 'a') as file:\n",
    "    file.write(\"{} {}\\n\".format(n, r))\n",
    "    for r in resistencias:\n",
    "        for n in ns:\n",
    "            file.write(\"{} {}\\n\".format(n, r))\n",
    "            for p in crear_test(n):\n",
    "                file.write(\"{} {}\\n\".format(p[0], p[1]))\n",
    "            file.write(\"\\n\")"
   ]
  },
  {
   "cell_type": "markdown",
   "metadata": {},
   "source": [
    "## Analisis"
   ]
  },
  {
   "cell_type": "code",
   "execution_count": 7,
   "metadata": {},
   "outputs": [],
   "source": [
    "from matplotlib import pyplot as plt, cm\n",
    "import numpy as np\n",
    "import pandas as pd\n",
    "import seaborn as sns"
   ]
  },
  {
   "cell_type": "code",
   "execution_count": 8,
   "metadata": {},
   "outputs": [],
   "source": [
    "results_fb = pd.read_csv('results_fb.txt', delimiter=' ', header=None)\n",
    "results_fb = results_fb.rename(columns={0:'n',1:'r',2:'res',3:'t'})\n",
    "results_fb['esperado'] = 2 ** results_fb['n'] * 20"
   ]
  },
  {
   "cell_type": "code",
   "execution_count": 9,
   "metadata": {},
   "outputs": [],
   "source": [
    "results_btf = pd.read_csv('results_btf.txt', delimiter=' ', header=None)\n",
    "results_btf = results_btf.rename(columns={0:'n',1:'r',2:'res',3:'t'})\n",
    "results_btf['esperado'] = 2 ** results_btf['n'] * 0.0020"
   ]
  },
  {
   "cell_type": "code",
   "execution_count": 10,
   "metadata": {},
   "outputs": [],
   "source": [
    "results_bto = pd.read_csv('results_bto.txt', delimiter=' ', header=None)\n",
    "results_bto = results_bto.rename(columns={0:'n',1:'r',2:'res',3:'t'})\n",
    "results_bto['esperado'] = 2 ** results_bto['n'] * 0.00006"
   ]
  },
  {
   "cell_type": "code",
   "execution_count": 18,
   "metadata": {},
   "outputs": [],
   "source": [
    "results_pd = pd.read_csv('results_dp.txt', delimiter=' ', header=None)\n",
    "results_pd = results_pd.rename(columns={0:'n',1:'r',2:'res',3:'t'})\n",
    "results_pd['esperado'] = results_pd['n'] * results_pd['r'] * 40"
   ]
  },
  {
   "cell_type": "code",
   "execution_count": 29,
   "metadata": {},
   "outputs": [],
   "source": [
    "res = pd.DataFrame([results_fb.res.tolist(), results_btf.res.tolist(), results_bto.res.tolist(), results_pd.res.tolist()]).transpose()"
   ]
  },
  {
   "cell_type": "code",
   "execution_count": 32,
   "metadata": {},
   "outputs": [],
   "source": [
    "res = res.rename(columns={0:\"FB\",1:\"BTF\",2:\"BTO\",3:\"PD\"})"
   ]
  },
  {
   "cell_type": "code",
   "execution_count": 43,
   "metadata": {},
   "outputs": [],
   "source": [
    "res['CORRECT_FB'] = True\n",
    "res['CORRECT_BTF'] = res['BTF'] == res['FB']\n",
    "res['CORRECT_BTO'] = res['BTO'] == res['FB']\n",
    "res['CORRECT_PD'] = res['PD'] == res['FB']"
   ]
  },
  {
   "cell_type": "code",
   "execution_count": null,
   "metadata": {},
   "outputs": [],
   "source": [
    "r"
   ]
  },
  {
   "cell_type": "code",
   "execution_count": 48,
   "metadata": {},
   "outputs": [
    {
     "data": {
      "text/html": [
       "<div>\n",
       "<style scoped>\n",
       "    .dataframe tbody tr th:only-of-type {\n",
       "        vertical-align: middle;\n",
       "    }\n",
       "\n",
       "    .dataframe tbody tr th {\n",
       "        vertical-align: top;\n",
       "    }\n",
       "\n",
       "    .dataframe thead th {\n",
       "        text-align: right;\n",
       "    }\n",
       "</style>\n",
       "<table border=\"1\" class=\"dataframe\">\n",
       "  <thead>\n",
       "    <tr style=\"text-align: right;\">\n",
       "      <th></th>\n",
       "      <th>FB</th>\n",
       "      <th>BTF</th>\n",
       "      <th>BTO</th>\n",
       "      <th>PD</th>\n",
       "      <th>CORRECT_BTF</th>\n",
       "      <th>CORRECT_BTO</th>\n",
       "      <th>CORRECT_PD</th>\n",
       "      <th>CORRECT_FB</th>\n",
       "    </tr>\n",
       "  </thead>\n",
       "  <tbody>\n",
       "    <tr>\n",
       "      <th>21</th>\n",
       "      <td>1</td>\n",
       "      <td>1</td>\n",
       "      <td>1</td>\n",
       "      <td>1</td>\n",
       "      <td>True</td>\n",
       "      <td>True</td>\n",
       "      <td>True</td>\n",
       "      <td>True</td>\n",
       "    </tr>\n",
       "    <tr>\n",
       "      <th>22</th>\n",
       "      <td>0</td>\n",
       "      <td>0</td>\n",
       "      <td>0</td>\n",
       "      <td>0</td>\n",
       "      <td>True</td>\n",
       "      <td>True</td>\n",
       "      <td>True</td>\n",
       "      <td>True</td>\n",
       "    </tr>\n",
       "    <tr>\n",
       "      <th>23</th>\n",
       "      <td>1</td>\n",
       "      <td>1</td>\n",
       "      <td>1</td>\n",
       "      <td>1</td>\n",
       "      <td>True</td>\n",
       "      <td>True</td>\n",
       "      <td>True</td>\n",
       "      <td>True</td>\n",
       "    </tr>\n",
       "    <tr>\n",
       "      <th>24</th>\n",
       "      <td>0</td>\n",
       "      <td>0</td>\n",
       "      <td>0</td>\n",
       "      <td>0</td>\n",
       "      <td>True</td>\n",
       "      <td>True</td>\n",
       "      <td>True</td>\n",
       "      <td>True</td>\n",
       "    </tr>\n",
       "    <tr>\n",
       "      <th>25</th>\n",
       "      <td>1</td>\n",
       "      <td>1</td>\n",
       "      <td>1</td>\n",
       "      <td>1</td>\n",
       "      <td>True</td>\n",
       "      <td>True</td>\n",
       "      <td>True</td>\n",
       "      <td>True</td>\n",
       "    </tr>\n",
       "    <tr>\n",
       "      <th>26</th>\n",
       "      <td>0</td>\n",
       "      <td>0</td>\n",
       "      <td>0</td>\n",
       "      <td>0</td>\n",
       "      <td>True</td>\n",
       "      <td>True</td>\n",
       "      <td>True</td>\n",
       "      <td>True</td>\n",
       "    </tr>\n",
       "    <tr>\n",
       "      <th>27</th>\n",
       "      <td>1</td>\n",
       "      <td>1</td>\n",
       "      <td>1</td>\n",
       "      <td>1</td>\n",
       "      <td>True</td>\n",
       "      <td>True</td>\n",
       "      <td>True</td>\n",
       "      <td>True</td>\n",
       "    </tr>\n",
       "    <tr>\n",
       "      <th>28</th>\n",
       "      <td>0</td>\n",
       "      <td>0</td>\n",
       "      <td>0</td>\n",
       "      <td>0</td>\n",
       "      <td>True</td>\n",
       "      <td>True</td>\n",
       "      <td>True</td>\n",
       "      <td>True</td>\n",
       "    </tr>\n",
       "    <tr>\n",
       "      <th>29</th>\n",
       "      <td>0</td>\n",
       "      <td>0</td>\n",
       "      <td>0</td>\n",
       "      <td>0</td>\n",
       "      <td>True</td>\n",
       "      <td>True</td>\n",
       "      <td>True</td>\n",
       "      <td>True</td>\n",
       "    </tr>\n",
       "    <tr>\n",
       "      <th>30</th>\n",
       "      <td>1</td>\n",
       "      <td>1</td>\n",
       "      <td>0</td>\n",
       "      <td>1</td>\n",
       "      <td>True</td>\n",
       "      <td>False</td>\n",
       "      <td>True</td>\n",
       "      <td>True</td>\n",
       "    </tr>\n",
       "    <tr>\n",
       "      <th>31</th>\n",
       "      <td>1</td>\n",
       "      <td>1</td>\n",
       "      <td>0</td>\n",
       "      <td>1</td>\n",
       "      <td>True</td>\n",
       "      <td>False</td>\n",
       "      <td>True</td>\n",
       "      <td>True</td>\n",
       "    </tr>\n",
       "    <tr>\n",
       "      <th>32</th>\n",
       "      <td>1</td>\n",
       "      <td>1</td>\n",
       "      <td>1</td>\n",
       "      <td>1</td>\n",
       "      <td>True</td>\n",
       "      <td>True</td>\n",
       "      <td>True</td>\n",
       "      <td>True</td>\n",
       "    </tr>\n",
       "    <tr>\n",
       "      <th>33</th>\n",
       "      <td>0</td>\n",
       "      <td>0</td>\n",
       "      <td>0</td>\n",
       "      <td>0</td>\n",
       "      <td>True</td>\n",
       "      <td>True</td>\n",
       "      <td>True</td>\n",
       "      <td>True</td>\n",
       "    </tr>\n",
       "    <tr>\n",
       "      <th>34</th>\n",
       "      <td>2</td>\n",
       "      <td>2</td>\n",
       "      <td>2</td>\n",
       "      <td>2</td>\n",
       "      <td>True</td>\n",
       "      <td>True</td>\n",
       "      <td>True</td>\n",
       "      <td>True</td>\n",
       "    </tr>\n",
       "    <tr>\n",
       "      <th>35</th>\n",
       "      <td>1</td>\n",
       "      <td>1</td>\n",
       "      <td>0</td>\n",
       "      <td>1</td>\n",
       "      <td>True</td>\n",
       "      <td>False</td>\n",
       "      <td>True</td>\n",
       "      <td>True</td>\n",
       "    </tr>\n",
       "    <tr>\n",
       "      <th>36</th>\n",
       "      <td>2</td>\n",
       "      <td>2</td>\n",
       "      <td>0</td>\n",
       "      <td>2</td>\n",
       "      <td>True</td>\n",
       "      <td>False</td>\n",
       "      <td>True</td>\n",
       "      <td>True</td>\n",
       "    </tr>\n",
       "    <tr>\n",
       "      <th>37</th>\n",
       "      <td>0</td>\n",
       "      <td>0</td>\n",
       "      <td>0</td>\n",
       "      <td>0</td>\n",
       "      <td>True</td>\n",
       "      <td>True</td>\n",
       "      <td>True</td>\n",
       "      <td>True</td>\n",
       "    </tr>\n",
       "    <tr>\n",
       "      <th>38</th>\n",
       "      <td>2</td>\n",
       "      <td>2</td>\n",
       "      <td>2</td>\n",
       "      <td>2</td>\n",
       "      <td>True</td>\n",
       "      <td>True</td>\n",
       "      <td>True</td>\n",
       "      <td>True</td>\n",
       "    </tr>\n",
       "    <tr>\n",
       "      <th>39</th>\n",
       "      <td>2</td>\n",
       "      <td>2</td>\n",
       "      <td>2</td>\n",
       "      <td>2</td>\n",
       "      <td>True</td>\n",
       "      <td>True</td>\n",
       "      <td>True</td>\n",
       "      <td>True</td>\n",
       "    </tr>\n",
       "  </tbody>\n",
       "</table>\n",
       "</div>"
      ],
      "text/plain": [
       "    FB  BTF  BTO  PD  CORRECT_BTF  CORRECT_BTO  CORRECT_PD  CORRECT_FB\n",
       "21   1    1    1   1         True         True        True        True\n",
       "22   0    0    0   0         True         True        True        True\n",
       "23   1    1    1   1         True         True        True        True\n",
       "24   0    0    0   0         True         True        True        True\n",
       "25   1    1    1   1         True         True        True        True\n",
       "26   0    0    0   0         True         True        True        True\n",
       "27   1    1    1   1         True         True        True        True\n",
       "28   0    0    0   0         True         True        True        True\n",
       "29   0    0    0   0         True         True        True        True\n",
       "30   1    1    0   1         True        False        True        True\n",
       "31   1    1    0   1         True        False        True        True\n",
       "32   1    1    1   1         True         True        True        True\n",
       "33   0    0    0   0         True         True        True        True\n",
       "34   2    2    2   2         True         True        True        True\n",
       "35   1    1    0   1         True        False        True        True\n",
       "36   2    2    0   2         True        False        True        True\n",
       "37   0    0    0   0         True         True        True        True\n",
       "38   2    2    2   2         True         True        True        True\n",
       "39   2    2    2   2         True         True        True        True"
      ]
     },
     "execution_count": 48,
     "metadata": {},
     "output_type": "execute_result"
    }
   ],
   "source": [
    "res[21:40]"
   ]
  },
  {
   "cell_type": "code",
   "execution_count": 45,
   "metadata": {},
   "outputs": [
    {
     "data": {
      "text/html": [
       "<div>\n",
       "<style scoped>\n",
       "    .dataframe tbody tr th:only-of-type {\n",
       "        vertical-align: middle;\n",
       "    }\n",
       "\n",
       "    .dataframe tbody tr th {\n",
       "        vertical-align: top;\n",
       "    }\n",
       "\n",
       "    .dataframe thead th {\n",
       "        text-align: right;\n",
       "    }\n",
       "</style>\n",
       "<table border=\"1\" class=\"dataframe\">\n",
       "  <thead>\n",
       "    <tr style=\"text-align: right;\">\n",
       "      <th></th>\n",
       "      <th>0</th>\n",
       "    </tr>\n",
       "  </thead>\n",
       "  <tbody>\n",
       "    <tr>\n",
       "      <th>CORRECT_FB</th>\n",
       "      <td>180</td>\n",
       "    </tr>\n",
       "    <tr>\n",
       "      <th>CORRECT_BTF</th>\n",
       "      <td>180</td>\n",
       "    </tr>\n",
       "    <tr>\n",
       "      <th>CORRECT_BTO</th>\n",
       "      <td>55</td>\n",
       "    </tr>\n",
       "    <tr>\n",
       "      <th>CORRECT_PD</th>\n",
       "      <td>115</td>\n",
       "    </tr>\n",
       "  </tbody>\n",
       "</table>\n",
       "</div>"
      ],
      "text/plain": [
       "               0\n",
       "CORRECT_FB   180\n",
       "CORRECT_BTF  180\n",
       "CORRECT_BTO   55\n",
       "CORRECT_PD   115"
      ]
     },
     "execution_count": 45,
     "metadata": {},
     "output_type": "execute_result"
    }
   ],
   "source": [
    "pd.DataFrame(res[['CORRECT_FB','CORRECT_BTF','CORRECT_BTO','CORRECT_PD']].sum())"
   ]
  },
  {
   "cell_type": "markdown",
   "metadata": {},
   "source": [
    "## Graficos y demas\n",
    "### FB"
   ]
  },
  {
   "cell_type": "code",
   "execution_count": null,
   "metadata": {},
   "outputs": [],
   "source": [
    "y = results_fb.loc[results_fb.r==100].t.tolist()\n",
    "x = results_fb.loc[results_fb.r==100].n.tolist()\n",
    "plt.figure(figsize=(10, 7))\n",
    "fig_fb = sns.scatterplot(x, y)\n",
    "fig_fb = sns.lineplot(data=results_fb, x='n', y='esperado', color=\"orange\")\n",
    "fig_fb.legend(labels=['O(2^n)','FB'])\n",
    "fig_fb.set(title=\"Fuerza Bruta\", xlabel='n', ylabel='tiempo (ns)')"
   ]
  },
  {
   "cell_type": "markdown",
   "metadata": {},
   "source": [
    "## BTF"
   ]
  },
  {
   "cell_type": "code",
   "execution_count": 73,
   "metadata": {},
   "outputs": [
    {
     "data": {
      "text/plain": [
       "[Text(0, 0.5, 'tiempo (ns)'),\n",
       " Text(0.5, 0, 'n'),\n",
       " Text(0.5, 1.0, 'Backtracking Factibilidad')]"
      ]
     },
     "execution_count": 73,
     "metadata": {},
     "output_type": "execute_result"
    },
    {
     "data": {
      "image/png": "[encoded data removed]",
      "text/plain": [
       "<Figure size 720x504 with 1 Axes>"
      ]
     },
     "metadata": {
      "needs_background": "light"
     },
     "output_type": "display_data"
    }
   ],
   "source": [
    "y = results_btf.loc[results_btf.r==100].t.tolist()\n",
    "x = results_btf.loc[results_btf.r==100].n.tolist()\n",
    "plt.figure(figsize=(10, 7))\n",
    "fig_fb = sns.scatterplot(x, y)\n",
    "fig_fb = sns.lineplot(data=results_btf, x='n', y='esperado', color=\"orange\")\n",
    "fig_fb.legend(labels=['O(2^n)','FB'])\n",
    "fig_fb.set(title=\"Backtracking Factibilidad\", xlabel='n', ylabel='tiempo (ns)')"
   ]
  },
  {
   "cell_type": "markdown",
   "metadata": {},
   "source": [
    "### BTO"
   ]
  },
  {
   "cell_type": "code",
   "execution_count": 100,
   "metadata": {},
   "outputs": [
    {
     "data": {
      "text/plain": [
       "[Text(0, 0.5, 'tiempo (ns)'),\n",
       " Text(0.5, 0, 'n'),\n",
       " Text(0.5, 1.0, 'Backtracking Factibilidad')]"
      ]
     },
     "execution_count": 100,
     "metadata": {},
     "output_type": "execute_result"
    },
    {
     "data": {
      "image/png": "[encoded data removed]",
      "text/plain": [
       "<Figure size 720x504 with 1 Axes>"
      ]
     },
     "metadata": {
      "needs_background": "light"
     },
     "output_type": "display_data"
    }
   ],
   "source": [
    "y = results_bto.loc[results_bto.r==10].t.tolist()\n",
    "x = results_bto.loc[results_bto.r==10].n.tolist()\n",
    "plt.figure(figsize=(10, 7))\n",
    "fig_fb = sns.scatterplot(x, y)\n",
    "# fig_fb = sns.lineplot(data=results_bto, x='n', y='esperado', color=\"orange\")\n",
    "fig_fb.legend(labels=['O(2^n)','FB'])\n",
    "fig_fb.set(title=\"Backtracking Factibilidad\", xlabel='n', ylabel='tiempo (ns)')"
   ]
  },
  {
   "cell_type": "markdown",
   "metadata": {},
   "source": [
    "y = results_bto.loc[results_bto.r==100].t.tolist()\n",
    "x = results_bto.loc[results_bto.r==100].n.tolist()\n",
    "sns.scatterplot(x, y)\n",
    "plt.title(\"Backtracking podas por optimalidad\")\n",
    "plt.xlabel(\"n\")\n",
    "plt.ylabel(\"tiempo (nanosegundos)\")\n",
    "plt.show()"
   ]
  },
  {
   "cell_type": "markdown",
   "metadata": {},
   "source": [
    "### PD"
   ]
  },
  {
   "cell_type": "code",
   "execution_count": 21,
   "metadata": {},
   "outputs": [
    {
     "data": {
      "text/plain": [
       "[Text(0, 0.5, 'tiempo (ns)'),\n",
       " Text(0.5, 0, 'n'),\n",
       " Text(0.5, 1.0, 'Programacion dinamica')]"
      ]
     },
     "execution_count": 21,
     "metadata": {},
     "output_type": "execute_result"
    },
    {
     "data": {
      "image/png": "[encoded data removed]",
      "text/plain": [
       "<Figure size 720x504 with 1 Axes>"
      ]
     },
     "metadata": {
      "needs_background": "light"
     },
     "output_type": "display_data"
    }
   ],
   "source": [
    "y = results_pd.loc[results_pd.r==10].t.tolist()\n",
    "x = results_pd.loc[results_pd.r==10].n.tolist()\n",
    "plt.figure(figsize=(10, 7))\n",
    "fig_fb = sns.scatterplot(x, y)\n",
    "# fig_fb = sns.lineplot(data=results_bto, x='n', y='esperado', color=\"orange\")\n",
    "fig_fb.legend(labels=['O(n * R)','FB'])\n",
    "fig_fb.set(title=\"Programacion dinamica\", xlabel='n', ylabel='tiempo (ns)')"
   ]
  }
 ],
 "metadata": {
  "kernelspec": {
   "display_name": "Python 3",
   "language": "python",
   "name": "python3"
  },
  "language_info": {
   "codemirror_mode": {
    "name": "ipython",
    "version": 3
   },
   "file_extension": ".py",
   "mimetype": "text/x-python",
   "name": "python",
   "nbconvert_exporter": "python",
   "pygments_lexer": "ipython3",
   "version": "3.7.5"
  }
 },
 "nbformat": 4,
 "nbformat_minor": 4
}
