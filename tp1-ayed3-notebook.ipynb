{
 "cells": [
  {
   "cell_type": "markdown",
   "metadata": {},
   "source": [
    "# Casos de test generados aleatoriamente"
   ]
  },
  {
   "cell_type": "code",
   "execution_count": 1,
   "metadata": {},
   "outputs": [],
   "source": [
    "import numpy as np\n",
    "import random"
   ]
  },
  {
   "cell_type": "code",
   "execution_count": 2,
   "metadata": {},
   "outputs": [],
   "source": [
    "random.seed(2020)"
   ]
  },
  {
   "cell_type": "code",
   "execution_count": 3,
   "metadata": {},
   "outputs": [],
   "source": [
    "ns_altos = [15,17,19,21,25]\n",
    "ns_bajos = [5,6,7,8,9,10]"
   ]
  },
  {
   "cell_type": "code",
   "execution_count": 4,
   "metadata": {},
   "outputs": [],
   "source": [
    "resistencias = [1, 10, 50, 100, 500, 1000, 1500]"
   ]
  },
  {
   "cell_type": "code",
   "execution_count": 9,
   "metadata": {},
   "outputs": [],
   "source": [
    "def crear_test(n):\n",
    "    pares = list()\n",
    "    for i in range(n):\n",
    "        w, r = random.randint(1, 30), random.randint(1, 50)\n",
    "        pares.append([w, r])\n",
    "    return pares"
   ]
  },
  {
   "cell_type": "code",
   "execution_count": 24,
   "metadata": {},
   "outputs": [
    {
     "data": {
      "text/plain": [
       "[[18, 32],\n",
       " [19, 43],\n",
       " [11, 21],\n",
       " [21, 1],\n",
       " [6, 25],\n",
       " [3, 3],\n",
       " [6, 30],\n",
       " [6, 19],\n",
       " [1, 3],\n",
       " [17, 13],\n",
       " [11, 45],\n",
       " [20, 22],\n",
       " [24, 27],\n",
       " [1, 24],\n",
       " [7, 24],\n",
       " [26, 18],\n",
       " [22, 44],\n",
       " [18, 25],\n",
       " [27, 31],\n",
       " [3, 13],\n",
       " [22, 22],\n",
       " [6, 6],\n",
       " [1, 39],\n",
       " [8, 29],\n",
       " [24, 48],\n",
       " [14, 31],\n",
       " [15, 7]]"
      ]
     },
     "execution_count": 24,
     "metadata": {},
     "output_type": "execute_result"
    }
   ],
   "source": [
    "crear_test(27)"
   ]
  },
  {
   "cell_type": "code",
   "execution_count": 23,
   "metadata": {},
   "outputs": [
    {
     "data": {
      "text/plain": [
       "54"
      ]
     },
     "execution_count": 23,
     "metadata": {},
     "output_type": "execute_result"
    }
   ],
   "source": [
    "27 * 2 "
   ]
  }
 ],
 "metadata": {
  "kernelspec": {
   "display_name": "Python 3",
   "language": "python",
   "name": "python3"
  },
  "language_info": {
   "codemirror_mode": {
    "name": "ipython",
    "version": 3
   },
   "file_extension": ".py",
   "mimetype": "text/x-python",
   "name": "python",
   "nbconvert_exporter": "python",
   "pygments_lexer": "ipython3",
   "version": "3.7.5"
  }
 },
 "nbformat": 4,
 "nbformat_minor": 4
}
